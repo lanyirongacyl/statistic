{
 "cells": [
  {
   "cell_type": "code",
   "execution_count": 1,
   "metadata": {},
   "outputs": [],
   "source": [
    "##常用运算符\n",
    "#python有各种运算符，我们可以使用这些运算符完成计算"
   ]
  },
  {
   "cell_type": "code",
   "execution_count": 6,
   "metadata": {},
   "outputs": [
    {
     "name": "stdout",
     "output_type": "stream",
     "text": [
      "3 + 2 =5\n",
      "3 - 2 =1\n",
      "3*2=6\n",
      "3/2=1.5\n",
      "3//2=1\n"
     ]
    }
   ],
   "source": [
    "print('3 + 2 ='+ str(3+2))\n",
    "print('3 - 2 ='+ str(3-2))\n",
    "print('3*2='+str(3*2))\n",
    "print('3/2='+str(3/2))\n",
    "print('3//2='+str(3//2))\n",
    "#'//'运算符仍会将结果向下舍入到最接近的整数"
   ]
  },
  {
   "cell_type": "code",
   "execution_count": 3,
   "metadata": {},
   "outputs": [
    {
     "data": {
      "text/plain": [
       "1"
      ]
     },
     "execution_count": 3,
     "metadata": {},
     "output_type": "execute_result"
    }
   ],
   "source": [
    "count=0\n",
    "count +=1\n",
    "count"
   ]
  },
  {
   "cell_type": "code",
   "execution_count": 29,
   "metadata": {},
   "outputs": [
    {
     "name": "stdout",
     "output_type": "stream",
     "text": [
      "那就去刮彩票\n"
     ]
    }
   ],
   "source": [
    "天气='晴天'\n",
    "\n",
    "if 天气 == '下雨' :\n",
    "  print('那就在家睡觉')\n",
    "else:\n",
    "  print('那就去刮彩票')\n"
   ]
  },
  {
   "cell_type": "code",
   "execution_count": 22,
   "metadata": {},
   "outputs": [
    {
     "name": "stdout",
     "output_type": "stream",
     "text": [
      "我就啃彦宝屁股\n"
     ]
    }
   ],
   "source": [
    "心情='开心'\n",
    "\n",
    "if 心情 == '开心' :\n",
    "    print('我就啃彦宝屁股')\n",
    "else :\n",
    "    print('彦宝就啃我屁股')"
   ]
  },
  {
   "cell_type": "code",
   "execution_count": 28,
   "metadata": {},
   "outputs": [
    {
     "name": "stdout",
     "output_type": "stream",
     "text": [
      "那就去刮彩票\n"
     ]
    }
   ],
   "source": [
    "天气='晴天'\n",
    "\n",
    "if 天气 == '下雨' :\n",
    "  print('那就在家睡觉')\n",
    "elif 天气 == '下雪':\n",
    "  print('那就去打雪仗')\n",
    "else:\n",
    "  print('那就去刮彩票')\n"
   ]
  },
  {
   "cell_type": "code",
   "execution_count": 33,
   "metadata": {},
   "outputs": [
    {
     "name": "stdout",
     "output_type": "stream",
     "text": [
      "apple\n",
      "banana\n",
      "cherry\n"
     ]
    }
   ],
   "source": [
    "# 使用for循环遍历列表  \n",
    "my_list = ['apple', 'banana', 'cherry']  \n",
    "for i in my_list:  \n",
    "    print(i)"
   ]
  },
  {
   "cell_type": "code",
   "execution_count": 32,
   "metadata": {},
   "outputs": [
    {
     "name": "stdout",
     "output_type": "stream",
     "text": [
      "a\n",
      "b\n",
      "c\n",
      "d\n"
     ]
    }
   ],
   "source": [
    "#for的循环\n",
    "mylist = ['a','b','c','d']\n",
    "for i in mylist:\n",
    "    print(i)"
   ]
  }
 ],
 "metadata": {
  "kernelspec": {
   "display_name": "Python 3",
   "language": "python",
   "name": "python3"
  },
  "language_info": {
   "codemirror_mode": {
    "name": "ipython",
    "version": 3
   },
   "file_extension": ".py",
   "mimetype": "text/x-python",
   "name": "python",
   "nbconvert_exporter": "python",
   "pygments_lexer": "ipython3",
   "version": "3.8.10"
  },
  "orig_nbformat": 4
 },
 "nbformat": 4,
 "nbformat_minor": 2
}

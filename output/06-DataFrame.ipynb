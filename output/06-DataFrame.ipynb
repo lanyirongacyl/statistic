{
 "cells": [
  {
   "cell_type": "code",
   "execution_count": 1,
   "metadata": {},
   "outputs": [],
   "source": [
    "import pandas as pd"
   ]
  },
  {
   "cell_type": "code",
   "execution_count": 2,
   "metadata": {},
   "outputs": [],
   "source": [
    "#读取贵州茅台的文件数据\n",
    "gzmt = pd.read_csv(R'C:\\Users\\LENOVO\\Desktop\\statistic\\data\\600519.csv')"
   ]
  },
  {
   "cell_type": "code",
   "execution_count": 3,
   "metadata": {},
   "outputs": [
    {
     "data": {
      "text/plain": [
       "<bound method DataFrame.info of              day  STOCK_CODE    open   close  maximum  minimum  volume  \\\n",
       "0     2001-08-27     6005191   34.51   35.55    37.78    32.85  406318   \n",
       "1     2001-08-28     6005191   34.99   36.86    37.00    34.61  129647   \n",
       "2     2001-08-29     6005191   36.98   36.38    37.00    36.10   53252   \n",
       "3     2001-08-30     6005191   36.28   37.10    37.51    36.00   48013   \n",
       "4     2001-08-31     6005191   37.15   37.01    37.62    36.80   23231   \n",
       "...          ...         ...     ...     ...      ...      ...     ...   \n",
       "4089  2018-10-29     6005191  549.09  549.09   549.09   549.09   49076   \n",
       "4090  2018-10-30     6005191  510.00  524.00   543.00   509.02  204397   \n",
       "4091  2018-10-31     6005191  527.00  548.90   555.00   522.00   96885   \n",
       "4092  2018-11-01     6005191  555.00  563.00   585.50   551.25   98107   \n",
       "4093  2018-11-02     6005191  585.00  599.90   600.00   572.24   89157   \n",
       "\n",
       "         TURNOVER  \n",
       "0      1410347008  \n",
       "1       463463008  \n",
       "2       194689000  \n",
       "3       177558000  \n",
       "4        86231000  \n",
       "...           ...  \n",
       "4089   2694714080  \n",
       "4090  10663392512  \n",
       "4091   5239853056  \n",
       "4092   5581027328  \n",
       "4093   5227695104  \n",
       "\n",
       "[4094 rows x 8 columns]>"
      ]
     },
     "execution_count": 3,
     "metadata": {},
     "output_type": "execute_result"
    }
   ],
   "source": [
    "gzmt.info"
   ]
  },
  {
   "cell_type": "code",
   "execution_count": 4,
   "metadata": {},
   "outputs": [
    {
     "data": {
      "text/plain": [
       "<bound method NDFrame.describe of              day  STOCK_CODE    open   close  maximum  minimum  volume  \\\n",
       "0     2001-08-27     6005191   34.51   35.55    37.78    32.85  406318   \n",
       "1     2001-08-28     6005191   34.99   36.86    37.00    34.61  129647   \n",
       "2     2001-08-29     6005191   36.98   36.38    37.00    36.10   53252   \n",
       "3     2001-08-30     6005191   36.28   37.10    37.51    36.00   48013   \n",
       "4     2001-08-31     6005191   37.15   37.01    37.62    36.80   23231   \n",
       "...          ...         ...     ...     ...      ...      ...     ...   \n",
       "4089  2018-10-29     6005191  549.09  549.09   549.09   549.09   49076   \n",
       "4090  2018-10-30     6005191  510.00  524.00   543.00   509.02  204397   \n",
       "4091  2018-10-31     6005191  527.00  548.90   555.00   522.00   96885   \n",
       "4092  2018-11-01     6005191  555.00  563.00   585.50   551.25   98107   \n",
       "4093  2018-11-02     6005191  585.00  599.90   600.00   572.24   89157   \n",
       "\n",
       "         TURNOVER  \n",
       "0      1410347008  \n",
       "1       463463008  \n",
       "2       194689000  \n",
       "3       177558000  \n",
       "4        86231000  \n",
       "...           ...  \n",
       "4089   2694714080  \n",
       "4090  10663392512  \n",
       "4091   5239853056  \n",
       "4092   5581027328  \n",
       "4093   5227695104  \n",
       "\n",
       "[4094 rows x 8 columns]>"
      ]
     },
     "execution_count": 4,
     "metadata": {},
     "output_type": "execute_result"
    }
   ],
   "source": [
    "gzmt.describe"
   ]
  },
  {
   "cell_type": "code",
   "execution_count": 5,
   "metadata": {},
   "outputs": [
    {
     "data": {
      "text/plain": [
       "<bound method NDFrame.describe of         open   close\n",
       "0      34.51   35.55\n",
       "1      34.99   36.86\n",
       "2      36.98   36.38\n",
       "3      36.28   37.10\n",
       "4      37.15   37.01\n",
       "...      ...     ...\n",
       "4089  549.09  549.09\n",
       "4090  510.00  524.00\n",
       "4091  527.00  548.90\n",
       "4092  555.00  563.00\n",
       "4093  585.00  599.90\n",
       "\n",
       "[4094 rows x 2 columns]>"
      ]
     },
     "execution_count": 5,
     "metadata": {},
     "output_type": "execute_result"
    }
   ],
   "source": [
    "gzmt[['open','close']].describe"
   ]
  },
  {
   "cell_type": "code",
   "execution_count": 6,
   "metadata": {},
   "outputs": [],
   "source": [
    "result = gzmt['open'].unique"
   ]
  },
  {
   "cell_type": "code",
   "execution_count": 7,
   "metadata": {},
   "outputs": [],
   "source": [
    "result2 = gzmt.close.value_counts"
   ]
  },
  {
   "cell_type": "code",
   "execution_count": 8,
   "metadata": {},
   "outputs": [
    {
     "data": {
      "text/plain": [
       "依次售卖奶茶的名称\n",
       "桑葚霉霉    414\n",
       "生椰拿铁      3\n",
       "草莓波波     76\n",
       "Name: 每次售卖奶茶的杯数, dtype: object"
      ]
     },
     "execution_count": 8,
     "metadata": {},
     "output_type": "execute_result"
    }
   ],
   "source": [
    "df = pd.DataFrame({'依次售卖奶茶的名称':['生椰拿铁','草莓波波','桑葚霉霉','草莓波波','桑葚霉霉','桑葚霉霉'],\n",
    "                   '每次售卖奶茶的杯数':['3','7','4','6','1','4']})\n",
    "df.groupby('依次售卖奶茶的名称')['每次售卖奶茶的杯数'].sum()"
   ]
  }
 ],
 "metadata": {
  "kernelspec": {
   "display_name": "Python 3",
   "language": "python",
   "name": "python3"
  },
  "language_info": {
   "codemirror_mode": {
    "name": "ipython",
    "version": 3
   },
   "file_extension": ".py",
   "mimetype": "text/x-python",
   "name": "python",
   "nbconvert_exporter": "python",
   "pygments_lexer": "ipython3",
   "version": "3.8.10"
  }
 },
 "nbformat": 4,
 "nbformat_minor": 2
}

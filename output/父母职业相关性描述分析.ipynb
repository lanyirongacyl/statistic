{
 "cells": [
  {
   "cell_type": "code",
   "execution_count": 1,
   "metadata": {},
   "outputs": [],
   "source": [
    "import pandas as pd\n",
    "import numpy as np\n",
    "import matplotlib.pyplot as plt\n",
    "import mytools\n",
    "import seaborn as sns"
   ]
  },
  {
   "cell_type": "code",
   "execution_count": 2,
   "metadata": {},
   "outputs": [
    {
     "name": "stdout",
     "output_type": "stream",
     "text": [
      "<bound method NDFrame.describe of               父亲工作 父亲职业编码           母亲工作 母亲职业编码\n",
      "0     中铁六局太原铁路建设公司     国企    鑫智点交通设施有限公司     民企\n",
      "1       凯信会议服务有限公司     民企  长城国际旅行社有限责任公司     民企\n",
      "2       银光聚银化工有限公司     国企        九亩花田蛋糕店     民企\n",
      "3       元拓科技咨询有限公司     民企   中国平安财险股份有限公司     民企\n",
      "4          市广播电视大学     国企          市实验中学    事业编\n",
      "5         市经济合作局\\n     国企      县住房保障中心\\n    事业编\n",
      "6          区建豪汽修中心     民企           家庭主妇    事业编\n",
      "7          区建豪汽修中心     国企           家庭主妇    事业编\n",
      "8     陕西省水利水电第三工程局     民企           二十一冶     民企\n",
      "9   渭源陇原恒新畜牧科技有限公司     民企      XX路街道诚信社区     民企\n",
      "10            市民政局    事业编       矿冶职业技术学院    事业编\n",
      "11   北京路九洋菜市场刘伟鲜面店     民企  北京路九洋菜市场刘伟鲜面店     民企\n",
      "12         市第一人民医院     国企  公路应急保障与路网监测中心    事业编\n",
      "13          市农业农村局    事业编           市委编办    事业编\n",
      "14           老姐饺子馆     民企            NaN     国企\n",
      "15       大市场清华电动工具     民企           家庭主妇     民企\n",
      "16            市统计局    事业编             个体     民企\n",
      "17         盛泰房地产公司     国企           家庭主妇     民企\n",
      "18         盛泰房地产公司     民企           家庭主妇     民企\n",
      "19  县瑞金路锦辉消防工程有限公司     民企           家庭主妇    事业编\n",
      "20      市农业综合行政执法队     民企     宏信房地资产评估公司     民企\n",
      "21      大禹工程咨询有限公司     国企         纺织路街道办    事业编\n",
      "22         市中级人民法院    事业编       农行XXX县支行     国企\n",
      "23            家庭父亲     国企    白银区公园路街道办事处     国企\n",
      "24            市旅游局    事业编         大自然旅行社     民企\n",
      "25            陇风巢浴     民企           凤巢浴足     民企\n",
      "26          XXX镇政府     国企      美年大健康有限公司     民企\n",
      "27             市团委    事业编         区应急管理局    事业编\n",
      "28  万盛体能拓展中心鑫多米便利店     民企         北门流觞烟酒     民企\n",
      "29            市公安局     国企          区人民法院    事业编\n",
      "30            家庭父母     国企           家庭父母     民企\n",
      "31             公安局     国企   市给排水（集团）有限公司     民企\n",
      "32           西区管委会     国企           市人社局    事业编\n",
      "33            市住建局     民企         市科学技术局    事业编\n",
      "34          XXX建设局    事业编          区住建局      民企\n",
      "35       银中源工贸有限公司     民企           家庭主妇     民企\n",
      "36          广东省中海油     国企           家庭主妇     民企\n",
      "37          娟红杂粮食府     国企         娟红杂粮食府    事业编\n",
      "38           市政管理处     国企         区妇幼保健站     民企\n",
      "39     中国兵器工业公司三冶炼     民企              无     民企\n",
      "40      万民工程建设有限公司     民企     新疆省和田市个体药店     民企\n",
      "41            市公安局    事业编        省第三人民医院    事业编\n",
      "42            省监狱局     国企          区人民法院    事业编\n",
      "43            家庭主妇     国企           家庭主妇     民企\n",
      "44   江苏路之久工程建设有限公司     国企           家庭主妇     民企\n",
      "45            市财政局     民企           市教育局    事业编\n",
      "46            市财政局    事业编        泰安学校教职工     国企\n",
      "47            瑞禾农资     民企          市委统战部     国企\n",
      "48             市纪委     国企       市公安局交警支队     国企\n",
      "49             市委办     民企           市审计局     国企\n",
      "50     第十一中学北侧校园书店     国企         顶新文化公司     民企\n",
      "51            长通公司     国企          市育才学校     国企\n",
      "52            市住建局    NaN         区融媒体中心     民企>\n"
     ]
    }
   ],
   "source": [
    "date=pd.read_csv(R'C:\\Users\\LENOVO\\Desktop\\statistic\\data\\类别变量练习数据.csv',encoding='GBK')\n",
    "print(date.describe)"
   ]
  },
  {
   "cell_type": "code",
   "execution_count": 3,
   "metadata": {},
   "outputs": [
    {
     "data": {
      "text/plain": [
       "<function matplotlib.pyplot.show(close=None, block=None)>"
      ]
     },
     "execution_count": 3,
     "metadata": {},
     "output_type": "execute_result"
    },
    {
     "data": {
      "image/png": "[encoded data removed]",
      "text/plain": [
       "<Figure size 640x480 with 1 Axes>"
      ]
     },
     "metadata": {},
     "output_type": "display_data"
    }
   ],
   "source": [
    "#父亲职业编码信息一览图\n",
    "def create_pie_chart(x,y):\n",
    "    x=date['父亲职业编码'].value_counts().index\n",
    "y=date['父亲职业编码'].value_counts(normalize=True)\n",
    "fig,ax1 = plt.subplots()\n",
    "labels = date['父亲职业编码'].value_counts().index\n",
    "ax1.pie(y,autopct='%1.1f%%',labels=labels,textprops=dict(color='pink'))\n",
    "plt.show"
   ]
  },
  {
   "cell_type": "code",
   "execution_count": 4,
   "metadata": {},
   "outputs": [
    {
     "data": {
      "text/plain": [
       "<function matplotlib.pyplot.show(close=None, block=None)>"
      ]
     },
     "execution_count": 4,
     "metadata": {},
     "output_type": "execute_result"
    },
    {
     "data": {
      "image/png": "[encoded data removed]",
      "text/plain": [
       "<Figure size 640x480 with 1 Axes>"
      ]
     },
     "metadata": {},
     "output_type": "display_data"
    }
   ],
   "source": [
    "#母亲\n",
    "def create_pie_chart(x,y):\n",
    "    x=date['母亲职业编码'].value_counts().index\n",
    "y=date['母亲职业编码'].value_counts(normalize=True)\n",
    "fig,ax1 = plt.subplots()\n",
    "labels = date['母亲职业编码'].value_counts().index\n",
    "ax1.pie(y,autopct='%1.1f%%',labels=labels,textprops=dict(color='pink'))\n",
    "plt.show"
   ]
  },
  {
   "cell_type": "code",
   "execution_count": 5,
   "metadata": {},
   "outputs": [
    {
     "data": {
      "text/html": [
       "<div>\n",
       "<style scoped>\n",
       "    .dataframe tbody tr th:only-of-type {\n",
       "        vertical-align: middle;\n",
       "    }\n",
       "\n",
       "    .dataframe tbody tr th {\n",
       "        vertical-align: top;\n",
       "    }\n",
       "\n",
       "    .dataframe thead th {\n",
       "        text-align: right;\n",
       "    }\n",
       "</style>\n",
       "<table border=\"1\" class=\"dataframe\">\n",
       "  <thead>\n",
       "    <tr style=\"text-align: right;\">\n",
       "      <th>母亲职业编码</th>\n",
       "      <th>事业编</th>\n",
       "      <th>国企</th>\n",
       "      <th>民企</th>\n",
       "      <th>All</th>\n",
       "    </tr>\n",
       "    <tr>\n",
       "      <th>父亲职业编码</th>\n",
       "      <th></th>\n",
       "      <th></th>\n",
       "      <th></th>\n",
       "      <th></th>\n",
       "    </tr>\n",
       "  </thead>\n",
       "  <tbody>\n",
       "    <tr>\n",
       "      <th>事业编</th>\n",
       "      <td>0.235294</td>\n",
       "      <td>0.250</td>\n",
       "      <td>0.111111</td>\n",
       "      <td>0.173077</td>\n",
       "    </tr>\n",
       "    <tr>\n",
       "      <th>国企</th>\n",
       "      <td>0.529412</td>\n",
       "      <td>0.375</td>\n",
       "      <td>0.407407</td>\n",
       "      <td>0.442308</td>\n",
       "    </tr>\n",
       "    <tr>\n",
       "      <th>民企</th>\n",
       "      <td>0.235294</td>\n",
       "      <td>0.375</td>\n",
       "      <td>0.481481</td>\n",
       "      <td>0.384615</td>\n",
       "    </tr>\n",
       "  </tbody>\n",
       "</table>\n",
       "</div>"
      ],
      "text/plain": [
       "母亲职业编码       事业编     国企        民企       All\n",
       "父亲职业编码                                     \n",
       "事业编     0.235294  0.250  0.111111  0.173077\n",
       "国企      0.529412  0.375  0.407407  0.442308\n",
       "民企      0.235294  0.375  0.481481  0.384615"
      ]
     },
     "execution_count": 5,
     "metadata": {},
     "output_type": "execute_result"
    }
   ],
   "source": [
    "mytools.制作交叉表(date,'父亲职业编码','母亲职业编码')"
   ]
  },
  {
   "cell_type": "code",
   "execution_count": 6,
   "metadata": {},
   "outputs": [
    {
     "data": {
      "text/plain": [
       "0.041306432685835365"
      ]
     },
     "execution_count": 6,
     "metadata": {},
     "output_type": "execute_result"
    }
   ],
   "source": [
    "tau_y = mytools.goodmanKruska_tau_y(date,'父亲职业编码','母亲职业编码')\n",
    "tau_y"
   ]
  },
  {
   "cell_type": "code",
   "execution_count": 7,
   "metadata": {},
   "outputs": [
    {
     "data": {
      "text/plain": [
       "'极弱相关或无相关'"
      ]
     },
     "execution_count": 7,
     "metadata": {},
     "output_type": "execute_result"
    }
   ],
   "source": [
    "mytools.相关系数判断(tau_y)"
   ]
  }
 ],
 "metadata": {
  "kernelspec": {
   "display_name": "Python 3",
   "language": "python",
   "name": "python3"
  },
  "language_info": {
   "codemirror_mode": {
    "name": "ipython",
    "version": 3
   },
   "file_extension": ".py",
   "mimetype": "text/x-python",
   "name": "python",
   "nbconvert_exporter": "python",
   "pygments_lexer": "ipython3",
   "version": "3.8.10"
  }
 },
 "nbformat": 4,
 "nbformat_minor": 2
}

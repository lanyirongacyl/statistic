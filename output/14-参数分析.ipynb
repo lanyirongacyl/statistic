{
 "cells": [
  {
   "cell_type": "code",
   "execution_count": 4,
   "metadata": {},
   "outputs": [],
   "source": [
    "import pandas as pd\n",
    "from scipy import stats\n",
    "# 打开数据文件\n",
    "file_path = R\"C:\\Users\\LENOVO\\Desktop\\statistic\\data\\movie_data_cleaned.csv\"\n",
    "df_movies = pd.read_csv(file_path)\n"
   ]
  },
  {
   "cell_type": "code",
   "execution_count": 5,
   "metadata": {},
   "outputs": [
    {
     "name": "stdout",
     "output_type": "stream",
     "text": [
      "均值： 7.20\n",
      "均值在置信水平0.95下的置信区间为： (7.171337577138237, 7.2214184794700635)\n"
     ]
    }
   ],
   "source": [
    "# 计算均值和标准误差\n",
    "mean = df_movies['average'].mean()\n",
    "std_error = stats.sem(df_movies['average'])\n",
    "# 设定置信水平\n",
    "confidence_level = 0.95\n",
    "# 设定自由度\n",
    "df = len(df_movies['average']) - 1\n",
    "# 计算置信区间\n",
    "confidence_interval = stats.t.interval(confidence_level, df, loc=mean, scale=std_error)\n",
    "# 输出结果\n",
    "print(F\"均值：{mean: .2f}\")\n",
    "print(F\"均值在置信水平{confidence_level}下的置信区间为：\", confidence_interval)\n"
   ]
  },
  {
   "cell_type": "code",
   "execution_count": 6,
   "metadata": {},
   "outputs": [
    {
     "name": "stdout",
     "output_type": "stream",
     "text": [
      "      Unnamed: 0  average                       country  \\\n",
      "5269        5647      7.8                            英国   \n",
      "4659        4868      6.4                            韩国   \n",
      "4350        4410      7.3                       美国 / 德国   \n",
      "1610        1618      7.8                 英国 / 加拿大 / 美国   \n",
      "7508        9270      5.6   美国 / 西班牙 / 中国大陆 / 韩国 / 中国香港   \n",
      "...          ...      ...                           ...   \n",
      "672          673      7.6                            美国   \n",
      "3239        3267      7.4                            美国   \n",
      "4781        5092      8.3                       英国 / 美国   \n",
      "3338        3368      7.2                            韩国   \n",
      "2495        2521      6.4                            美国   \n",
      "\n",
      "                         genre       language release_date  \\\n",
      "5269              ['喜剧', '科幻']             英语   2009-04-24   \n",
      "4659              ['惊悚', '犯罪']             韩语   2015-03-12   \n",
      "4350        ['悬疑', '惊悚', '犯罪']             英语   1999-02-26   \n",
      "1610        ['剧情', '悬疑', '犯罪']             英语   2017-01-21   \n",
      "7508  ['喜剧', '动画', '奇幻', '冒险']             英语   2018-07-21   \n",
      "...                        ...            ...          ...   \n",
      "672         ['喜剧', '动作', '科幻']             英语   2012-05-25   \n",
      "3239        ['动作', '惊悚', '犯罪']             英语   2018-01-19   \n",
      "4781              ['剧情', '爱情']   英语 / 德语 / 法语   1993-11-12   \n",
      "3338  ['剧情', '悬疑', '惊悚', '恐怖']             韩语   2003-06-13   \n",
      "2495  ['动作', '科幻', '奇幻', '冒险']             英语   2012-03-16   \n",
      "\n",
      "                                                  title     votes  \n",
      "5269  有关时间旅行的热门问题 Frequently Asked Questions About T...   43750.0  \n",
      "4659                                          杀人依赖 살인의뢰    6764.0  \n",
      "4350                                            八毫米 8MM   24416.0  \n",
      "1610                                   猎凶风河谷 Wind River   53426.0  \n",
      "7508         神奇马戏团之动物饼干 Magical Circus: Animal Crackers    3869.0  \n",
      "...                                                 ...       ...  \n",
      "672                               黑衣人3 Men in Black III  245352.0  \n",
      "3239                                  贼巢 Den of Thieves   19352.0  \n",
      "4781                       告别有情天 The Remains of the Day   15003.0  \n",
      "3338                                       蔷花，红莲 장화, 홍련   51573.0  \n",
      "2495                                   异星战场 John Carter   59033.0  \n",
      "\n",
      "[100 rows x 8 columns]\n",
      "均值： 7.20\n",
      "均值在置信水平0.95下的置信区间为： (7.171337577138237, 7.2214184794700635)\n"
     ]
    }
   ],
   "source": [
    "# 使用sample函数实现随机抽取，并且计算出置信区间\n",
    "import pandas as pd  \n",
    "import random  \n",
    "  \n",
    "# 读取CSV文件  \n",
    "data = pd.read_csv(R'C:\\Users\\LENOVO\\Desktop\\statistic\\data\\movie_data_cleaned.csv')  \n",
    "  \n",
    "# 使用random.sample随机抽取100条数据  \n",
    "sample = data.sample(n=100)  \n",
    "  \n",
    "print(sample)\n",
    "\n",
    "# 计算均值和标准误差\n",
    "mean = df_movies['average'].mean()\n",
    "std_error = stats.sem(df_movies['average'])\n",
    "# 设定置信水平\n",
    "confidence_level = 0.95\n",
    "# 设定自由度\n",
    "df = len(df_movies['average']) - 1\n",
    "# 计算置信区间\n",
    "confidence_interval = stats.t.interval(confidence_level, df, loc=mean, scale=std_error)\n",
    "# 输出结果\n",
    "print(F\"均值：{mean: .2f}\")\n",
    "print(F\"均值在置信水平{confidence_level}下的置信区间为：\", confidence_interval)\n"
   ]
  }
 ],
 "metadata": {
  "kernelspec": {
   "display_name": "Python 3",
   "language": "python",
   "name": "python3"
  },
  "language_info": {
   "codemirror_mode": {
    "name": "ipython",
    "version": 3
   },
   "file_extension": ".py",
   "mimetype": "text/x-python",
   "name": "python",
   "nbconvert_exporter": "python",
   "pygments_lexer": "ipython3",
   "version": "3.8.10"
  }
 },
 "nbformat": 4,
 "nbformat_minor": 2
}

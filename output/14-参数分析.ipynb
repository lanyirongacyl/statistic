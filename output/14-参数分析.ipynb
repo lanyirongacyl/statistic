{
 "cells": [
  {
   "cell_type": "code",
   "execution_count": 1,
   "metadata": {},
   "outputs": [],
   "source": [
    "import pandas as pd\n",
    "from scipy import stats\n",
    "# 打开数据文件\n",
    "file_path = R\"C:\\Users\\LENOVO\\Desktop\\statistic\\data\\movie_data_cleaned.csv\"\n",
    "df_movies = pd.read_csv(file_path)\n"
   ]
  },
  {
   "cell_type": "code",
   "execution_count": 2,
   "metadata": {},
   "outputs": [
    {
     "name": "stdout",
     "output_type": "stream",
     "text": [
      "均值： 7.20\n",
      "均值在置信水平0.95下的置信区间为： (7.171337577138237, 7.2214184794700635)\n"
     ]
    }
   ],
   "source": [
    "# 计算均值和标准误差\n",
    "mean = df_movies['average'].mean()\n",
    "std_error = stats.sem(df_movies['average'])\n",
    "# 设定置信水平\n",
    "confidence_level = 0.95\n",
    "# 设定自由度\n",
    "df = len(df_movies['average']) - 1\n",
    "# 计算置信区间\n",
    "confidence_interval = stats.t.interval(confidence_level, df, loc=mean, scale=std_error)\n",
    "# 输出结果\n",
    "print(F\"均值：{mean: .2f}\")\n",
    "print(F\"均值在置信水平{confidence_level}下的置信区间为：\", confidence_interval)\n"
   ]
  },
  {
   "cell_type": "code",
   "execution_count": 3,
   "metadata": {},
   "outputs": [
    {
     "name": "stdout",
     "output_type": "stream",
     "text": [
      "      Unnamed: 0  average               country                     genre  \\\n",
      "708          710      5.7      美国 / 中国大陆 / 中国香港        ['动作', '科幻', '惊悚']   \n",
      "3272        3300      9.2              法国 / 意大利        ['剧情', '惊悚', '犯罪']   \n",
      "4916        5250      6.5                    美国              ['惊悚', '恐怖']   \n",
      "7790        9737      7.4                  中国大陆              ['剧情', '爱情']   \n",
      "1671        1679      8.6                    日本  ['喜剧', '爱情', '动画', '奇幻']   \n",
      "...          ...      ...                   ...                       ...   \n",
      "6142        7024      6.9   西班牙 / 阿根廷 / 印度 / 美国        ['动画', '冒险', '运动']   \n",
      "6588        7552      3.8                  中国大陆              ['喜剧', '爱情']   \n",
      "374          375      7.7              美国 / 加拿大              ['动作', '科幻']   \n",
      "1325        1329      7.5    英国 / 法国 / 美国 / 爱尔兰              ['喜剧', '爱情']   \n",
      "5639        6037      6.4                    韩国              ['喜剧', '动作']   \n",
      "\n",
      "              language release_date                         title     votes  \n",
      "708    英语 / 汉语普通话 / 泰语   2018-08-10                   巨齿鲨 The Meg  183660.0  \n",
      "3272                法语   1960-03-18                     洞 Le trou   34041.0  \n",
      "4916                英语   2008-04-08         新丧尸出笼 Day of the Dead   15083.0  \n",
      "7790             汉语普通话   1994-02-19                         冬春的日子    6216.0  \n",
      "1671                日语   2017-04-07         春宵苦短，少女前进吧！ 夜は短し歩けよ乙女   85213.0  \n",
      "...                ...          ...                           ...       ...  \n",
      "6142         西班牙语 / 英语   2014-09-05                 挑战者联盟 Metegol    6554.0  \n",
      "6588        汉语普通话 / 粤语   2010-11-05                       我的野蛮女友2    7806.0  \n",
      "374                 英语   2000-07-14                     X战警 X-Men  234131.0  \n",
      "1325                英语   2001-04-04  BJ单身日记 Bridget Jones's Diary  177471.0  \n",
      "5639                韩语   2007-02-08   金馆长对金馆长对金馆长 김관장 대 김관장 대 김관장   15728.0  \n",
      "\n",
      "[100 rows x 8 columns]\n",
      "均值： 7.17\n",
      "均值在置信水平0.95下的置信区间为： (6.916841867332969, 7.41915813266703)\n"
     ]
    }
   ],
   "source": [
    "# 使用sample函数实现随机抽取，并且计算出置信区间\n",
    "import pandas as pd  \n",
    "import random  \n",
    "  \n",
    "# 读取CSV文件  \n",
    "data = pd.read_csv(R'C:\\Users\\LENOVO\\Desktop\\statistic\\data\\movie_data_cleaned.csv')  \n",
    "  \n",
    "# 使用random.sample随机抽取100条数据  \n",
    "sample = data.sample(n=100)  \n",
    "  \n",
    "print(sample)\n",
    "\n",
    "# 计算均值和标准误差\n",
    "mean = sample['average'].mean()\n",
    "std_error = stats.sem(sample['average'])\n",
    "# 设定置信水平\n",
    "confidence_level = 0.95\n",
    "# 设定自由度\n",
    "df = len(sample['average']) - 1\n",
    "# 计算置信区间\n",
    "confidence_interval = stats.t.interval(confidence_level, df, loc=mean, scale=std_error)\n",
    "# 输出结果\n",
    "print(F\"均值：{mean: .2f}\")\n",
    "print(F\"均值在置信水平{confidence_level}下的置信区间为：\", confidence_interval)\n"
   ]
  }
 ],
 "metadata": {
  "kernelspec": {
   "display_name": "Python 3",
   "language": "python",
   "name": "python3"
  },
  "language_info": {
   "codemirror_mode": {
    "name": "ipython",
    "version": 3
   },
   "file_extension": ".py",
   "mimetype": "text/x-python",
   "name": "python",
   "nbconvert_exporter": "python",
   "pygments_lexer": "ipython3",
   "version": "3.8.10"
  }
 },
 "nbformat": 4,
 "nbformat_minor": 2
}

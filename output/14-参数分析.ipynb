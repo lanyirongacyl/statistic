{
 "cells": [
  {
   "cell_type": "code",
   "execution_count": 1,
   "metadata": {},
   "outputs": [],
   "source": [
    "import pandas as pd\n",
    "from scipy import stats\n",
    "# 打开数据文件\n",
    "file_path = R\"C:\\Users\\LENOVO\\Desktop\\statistic\\data\\movie_data_cleaned.csv\"\n",
    "df_movies = pd.read_csv(file_path)\n"
   ]
  },
  {
   "cell_type": "code",
   "execution_count": 2,
   "metadata": {},
   "outputs": [
    {
     "name": "stdout",
     "output_type": "stream",
     "text": [
      "均值： 7.20\n",
      "均值在置信水平0.95下的置信区间为： (7.171337577138237, 7.2214184794700635)\n"
     ]
    }
   ],
   "source": [
    "# 计算均值和标准误差\n",
    "mean = df_movies['average'].mean()\n",
    "std_error = stats.sem(df_movies['average'])\n",
    "# 设定置信水平\n",
    "confidence_level = 0.95\n",
    "# 设定自由度\n",
    "df = len(df_movies['average']) - 1\n",
    "# 计算置信区间\n",
    "confidence_interval = stats.t.interval(confidence_level, df, loc=mean, scale=std_error)\n",
    "# 输出结果\n",
    "print(F\"均值：{mean: .2f}\")\n",
    "print(F\"均值在置信水平{confidence_level}下的置信区间为：\", confidence_interval)\n"
   ]
  },
  {
   "cell_type": "code",
   "execution_count": 4,
   "metadata": {},
   "outputs": [
    {
     "name": "stdout",
     "output_type": "stream",
     "text": [
      "      Unnamed: 0  average           country                     genre  \\\n",
      "5146        5513      9.1   意大利 / 英国 / 南斯拉夫  ['剧情', '喜剧', '犯罪', '奇幻']   \n",
      "6965        8269      7.9                日本                    ['动画']   \n",
      "6161        7047      6.3       中国香港 / 中国大陆        ['剧情', '动作', '犯罪']   \n",
      "1467        1472      6.9                英国        ['剧情', '传记', '犯罪']   \n",
      "383          384      7.7                韩国        ['剧情', '动作', '冒险']   \n",
      "...          ...      ...               ...                       ...   \n",
      "995          997      8.4                美国        ['剧情', '传记', '灾难']   \n",
      "737          739      7.6              中国香港                    ['喜剧']   \n",
      "96            96      8.1       中国大陆 / 中国香港  ['剧情', '动作', '悬疑', '犯罪']   \n",
      "7532        9298      9.2                日本              ['科幻', '动画']   \n",
      "4166        4224      6.8                法国        ['喜剧', '奇幻', '冒险']   \n",
      "\n",
      "                            language release_date  \\\n",
      "5146   英语 / 意大利语 / 塞尔维亚-克罗地亚语 / 吉普赛语   1988-12-21   \n",
      "6965                              日语   2016-01-29   \n",
      "6161     粤语 / 英语 / 谷美尔语 / 泰语 / 汉语普通话   2006-11-17   \n",
      "1467                              英语   2015-09-09   \n",
      "383                   韩语 / 英语 / 菲律宾语   2013-08-14   \n",
      "...                              ...          ...   \n",
      "995                               英语   2017-12-08   \n",
      "737                               粤语   1992-04-09   \n",
      "96        汉语普通话 / 粤语 / 英语 / 泰语 / 波兰语   2018-09-30   \n",
      "7532                              日语   2016-05-21   \n",
      "4166                              法语   2010-08-02   \n",
      "\n",
      "                                                  title     votes  \n",
      "5146                                流浪者之歌 Дом за вешање    6639.0  \n",
      "6965                           一拳超人OVA2 ワンパンマン 話ベタすぎる弟子    3782.0  \n",
      "6161                                                天行者    9011.0  \n",
      "1467                                          传奇 Legend   20326.0  \n",
      "383                                               流感 감기  288329.0  \n",
      "...                                                 ...       ...  \n",
      "995                                 勇往直前 Only the Brave   65963.0  \n",
      "737                                         逃学威龙2 逃學威龍2  134971.0  \n",
      "96                                                无双 無雙  745172.0  \n",
      "7532  机动战士高达 THE ORIGIN III 破晓的起义 機動戦士ガンダム THE ORIGI...    2778.0  \n",
      "4166  阿黛拉的非凡冒险 Les aventures extraordinaires d'Adèle...   67328.0  \n",
      "\n",
      "[100 rows x 8 columns]\n",
      "均值： 7.03\n",
      "均值在置信水平0.95下的置信区间为： (6.774718248120467, 7.293281751879534)\n"
     ]
    }
   ],
   "source": [
    "# 使用sample函数实现随机抽取，并且计算出置信区间\n",
    "import pandas as pd  \n",
    "import random  \n",
    "  \n",
    "# 读取CSV文件  \n",
    "data = pd.read_csv(R'C:\\Users\\LENOVO\\Desktop\\statistic\\data\\movie_data_cleaned.csv')  \n",
    "  \n",
    "# 使用random.sample随机抽取100条数据  \n",
    "sample = data.sample(n=100)  \n",
    "  \n",
    "print(sample)\n",
    "\n",
    "# 计算均值和标准误差\n",
    "mean = sample['average'].mean()\n",
    "std_error = stats.sem(sample['average'])\n",
    "# 设定置信水平\n",
    "confidence_level = 0.95\n",
    "# 设定自由度\n",
    "df = len(sample['average']) - 1\n",
    "# 计算置信区间\n",
    "confidence_interval = stats.t.interval(confidence_level, df, loc=mean, scale=std_error)\n",
    "# 输出结果\n",
    "print(F\"均值：{mean: .2f}\")\n",
    "print(F\"均值在置信水平{confidence_level}下的置信区间为：\", confidence_interval)\n"
   ]
  }
 ],
 "metadata": {
  "kernelspec": {
   "display_name": "Python 3",
   "language": "python",
   "name": "python3"
  },
  "language_info": {
   "codemirror_mode": {
    "name": "ipython",
    "version": 3
   },
   "file_extension": ".py",
   "mimetype": "text/x-python",
   "name": "python",
   "nbconvert_exporter": "python",
   "pygments_lexer": "ipython3",
   "version": "3.8.10"
  }
 },
 "nbformat": 4,
 "nbformat_minor": 2
}

{
 "cells": [
  {
   "cell_type": "code",
   "execution_count": 26,
   "metadata": {},
   "outputs": [
    {
     "name": "stdout",
     "output_type": "stream",
     "text": [
      "这是一个python程序\n"
     ]
    }
   ],
   "source": [
    "print('这是一个python程序')"
   ]
  },
  {
   "cell_type": "code",
   "execution_count": 27,
   "metadata": {},
   "outputs": [
    {
     "data": {
      "text/plain": [
       "'作业\\n作业\\n作业\\n作业'"
      ]
     },
     "execution_count": 27,
     "metadata": {},
     "output_type": "execute_result"
    }
   ],
   "source": [
    "#这是一个作业\n",
    "'''作业\n",
    "作业\n",
    "作业\n",
    "作业'''"
   ]
  },
  {
   "cell_type": "code",
   "execution_count": 28,
   "metadata": {},
   "outputs": [
    {
     "name": "stdout",
     "output_type": "stream",
     "text": [
      "初始资金100 <class 'int'>\n",
      "现有资金81 <class 'int'>\n"
     ]
    }
   ],
   "source": [
    "#这是一次练习\n",
    "\n",
    "#数字类型\n",
    "money=100\n",
    "print('初始资金' + str(money),type(money))\n",
    "money=money-19\n",
    "print('现有资金' + str(money),type(money))"
   ]
  },
  {
   "cell_type": "code",
   "execution_count": 29,
   "metadata": {},
   "outputs": [
    {
     "name": "stdout",
     "output_type": "stream",
     "text": [
      "<class 'str'>\n",
      "崆峒真人使用了太虚剑法\n"
     ]
    }
   ],
   "source": [
    "#字符串\n",
    "\n",
    "#字符串是一种序列\n",
    "title='崆峒真人'\n",
    "skill='太虚剑法'\n",
    "print(type(title))\n",
    "print(title + '使用了' + skill)\n"
   ]
  },
  {
   "cell_type": "code",
   "execution_count": 30,
   "metadata": {},
   "outputs": [
    {
     "name": "stdout",
     "output_type": "stream",
     "text": [
      "<class 'str'>\n",
      "蓝苡榕要陪着陈彦龙\n"
     ]
    }
   ],
   "source": [
    "#字符串\n",
    "\n",
    "title='蓝苡榕'\n",
    "skill='陈彦龙'\n",
    "print(type(title))\n",
    "print(title + '要陪着' + skill)"
   ]
  },
  {
   "cell_type": "code",
   "execution_count": 31,
   "metadata": {},
   "outputs": [
    {
     "name": "stdout",
     "output_type": "stream",
     "text": [
      "<class 'str'>\n",
      "靳元婷是大美女\n"
     ]
    }
   ],
   "source": [
    "#字符串\n",
    "\n",
    "title='靳元婷'\n",
    "skill='大美女'\n",
    "print(type(title))\n",
    "print(title + '是' + skill)"
   ]
  },
  {
   "cell_type": "code",
   "execution_count": 32,
   "metadata": {},
   "outputs": [
    {
     "name": "stdout",
     "output_type": "stream",
     "text": [
      "<class 'str'>\n",
      "公主打王子，救恶龙\n"
     ]
    }
   ],
   "source": [
    "#字符串\n",
    "\n",
    "title='公主'\n",
    "skill='王子'\n",
    "name='恶龙'\n",
    "print(type(title))\n",
    "print(title + '打' + skill + '，' + '救' + name)"
   ]
  },
  {
   "cell_type": "code",
   "execution_count": 33,
   "metadata": {},
   "outputs": [
    {
     "name": "stdout",
     "output_type": "stream",
     "text": [
      "<class 'bool'>\n",
      "<class 'tuple'>\n",
      "<class 'list'>\n",
      "<class 'set'>\n",
      "<class 'dict'>\n"
     ]
    }
   ],
   "source": [
    "#其他类型\n",
    "t=False\n",
    "print(type(t))\n",
    "a=(1,2,3)\n",
    "print(type(a))\n",
    "b=[1,2,2]\n",
    "print(type(b))\n",
    "c={1,2,3}\n",
    "print(type(c))\n",
    "d={'姓名':'小明','性别':'男'}\n",
    "print(type(d))"
   ]
  }
 ],
 "metadata": {
  "kernelspec": {
   "display_name": "Python 3.8.10 64-bit",
   "language": "python",
   "name": "python3"
  },
  "language_info": {
   "codemirror_mode": {
    "name": "ipython",
    "version": 3
   },
   "file_extension": ".py",
   "mimetype": "text/x-python",
   "name": "python",
   "nbconvert_exporter": "python",
   "pygments_lexer": "ipython3",
   "version": "3.8.10"
  },
  "orig_nbformat": 4,
  "vscode": {
   "interpreter": {
    "hash": "570feb405e2e27c949193ac68f46852414290d515b0ba6e5d90d076ed2284471"
   }
  }
 },
 "nbformat": 4,
 "nbformat_minor": 2
}
